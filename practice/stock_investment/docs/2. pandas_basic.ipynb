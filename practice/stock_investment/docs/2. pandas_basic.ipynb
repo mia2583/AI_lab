{
 "cells": [
  {
   "cell_type": "code",
   "execution_count": 11,
   "metadata": {},
   "outputs": [],
   "source": [
    "import pandas as pd"
   ]
  },
  {
   "cell_type": "code",
   "execution_count": 20,
   "metadata": {},
   "outputs": [
    {
     "data": {
      "text/html": [
       "<div>\n",
       "<style scoped>\n",
       "    .dataframe tbody tr th:only-of-type {\n",
       "        vertical-align: middle;\n",
       "    }\n",
       "\n",
       "    .dataframe tbody tr th {\n",
       "        vertical-align: top;\n",
       "    }\n",
       "\n",
       "    .dataframe thead th {\n",
       "        text-align: right;\n",
       "    }\n",
       "</style>\n",
       "<table border=\"1\" class=\"dataframe\">\n",
       "  <thead>\n",
       "    <tr style=\"text-align: right;\">\n",
       "      <th></th>\n",
       "      <th>Name</th>\n",
       "      <th>Age</th>\n",
       "      <th>Driver</th>\n",
       "    </tr>\n",
       "  </thead>\n",
       "  <tbody>\n",
       "    <tr>\n",
       "      <th>0</th>\n",
       "      <td>Jacky</td>\n",
       "      <td>38</td>\n",
       "      <td>True</td>\n",
       "    </tr>\n",
       "    <tr>\n",
       "      <th>1</th>\n",
       "      <td>Steven</td>\n",
       "      <td>25</td>\n",
       "      <td>False</td>\n",
       "    </tr>\n",
       "    <tr>\n",
       "      <th>2</th>\n",
       "      <td>George</td>\n",
       "      <td>23</td>\n",
       "      <td>True</td>\n",
       "    </tr>\n",
       "  </tbody>\n",
       "</table>\n",
       "</div>"
      ],
      "text/plain": [
       "     Name  Age  Driver\n",
       "0   Jacky   38    True\n",
       "1  Steven   25   False\n",
       "2  George   23    True"
      ]
     },
     "execution_count": 20,
     "metadata": {},
     "output_type": "execute_result"
    }
   ],
   "source": [
    "# 1. DataFrame 생성\n",
    "df = pd.DataFrame()\n",
    "df[\"Name\"] = [\"Jacky\", \"Steven\", \"George\"]\n",
    "df[\"Age\"] = [38, 25, 23]\n",
    "df[\"Driver\"] = [True, False, True]\n",
    "\n",
    "df"
   ]
  },
  {
   "cell_type": "code",
   "execution_count": 21,
   "metadata": {},
   "outputs": [
    {
     "data": {
      "text/html": [
       "<div>\n",
       "<style scoped>\n",
       "    .dataframe tbody tr th:only-of-type {\n",
       "        vertical-align: middle;\n",
       "    }\n",
       "\n",
       "    .dataframe tbody tr th {\n",
       "        vertical-align: top;\n",
       "    }\n",
       "\n",
       "    .dataframe thead th {\n",
       "        text-align: right;\n",
       "    }\n",
       "</style>\n",
       "<table border=\"1\" class=\"dataframe\">\n",
       "  <thead>\n",
       "    <tr style=\"text-align: right;\">\n",
       "      <th></th>\n",
       "      <th>Name</th>\n",
       "      <th>Age</th>\n",
       "      <th>Driver</th>\n",
       "    </tr>\n",
       "  </thead>\n",
       "  <tbody>\n",
       "    <tr>\n",
       "      <th>0</th>\n",
       "      <td>Jacky</td>\n",
       "      <td>38</td>\n",
       "      <td>True</td>\n",
       "    </tr>\n",
       "    <tr>\n",
       "      <th>1</th>\n",
       "      <td>Steven</td>\n",
       "      <td>25</td>\n",
       "      <td>False</td>\n",
       "    </tr>\n",
       "    <tr>\n",
       "      <th>2</th>\n",
       "      <td>George</td>\n",
       "      <td>23</td>\n",
       "      <td>True</td>\n",
       "    </tr>\n",
       "  </tbody>\n",
       "</table>\n",
       "</div>"
      ],
      "text/plain": [
       "     Name  Age  Driver\n",
       "0   Jacky   38    True\n",
       "1  Steven   25   False\n",
       "2  George   23    True"
      ]
     },
     "execution_count": 21,
     "metadata": {},
     "output_type": "execute_result"
    }
   ],
   "source": [
    "# 2. 파이썬 dictionary 사용해서 DataFrame 만들기\n",
    "data = {\n",
    "    \"Name\":[\"Jacky\", \"Steven\", \"George\"],\n",
    "    \"Age\": [38, 25, 23],\n",
    "    \"Driver\": [True, False, True]\n",
    "}\n",
    "df = pd.DataFrame(data)\n",
    "\n",
    "df"
   ]
  },
  {
   "cell_type": "code",
   "execution_count": 22,
   "metadata": {},
   "outputs": [
    {
     "name": "stdout",
     "output_type": "stream",
     "text": [
      "3-1. Series 접근하기 - Age\n",
      "0    38\n",
      "1    25\n",
      "2    23\n",
      "Name: Age, dtype: int64\n",
      "\n",
      "3-2. Series 접근하기 - Age, Driver\n",
      "   Age  Driver\n",
      "0   38    True\n",
      "1   25   False\n",
      "2   23    True\n",
      "\n"
     ]
    }
   ],
   "source": [
    "# 3. Series 접근\n",
    "print(\"3-1. Series 접근하기 - Age\")\n",
    "print(df[\"Age\"])\n",
    "print()\n",
    "\n",
    "print(\"3-2. Series 접근하기 - Age, Driver\")\n",
    "print(df[[\"Age\", \"Driver\"]])\n",
    "print()\n"
   ]
  },
  {
   "cell_type": "code",
   "execution_count": 23,
   "metadata": {},
   "outputs": [
    {
     "data": {
      "text/html": [
       "<div>\n",
       "<style scoped>\n",
       "    .dataframe tbody tr th:only-of-type {\n",
       "        vertical-align: middle;\n",
       "    }\n",
       "\n",
       "    .dataframe tbody tr th {\n",
       "        vertical-align: top;\n",
       "    }\n",
       "\n",
       "    .dataframe thead th {\n",
       "        text-align: right;\n",
       "    }\n",
       "</style>\n",
       "<table border=\"1\" class=\"dataframe\">\n",
       "  <thead>\n",
       "    <tr style=\"text-align: right;\">\n",
       "      <th></th>\n",
       "      <th>Name</th>\n",
       "      <th>Age</th>\n",
       "      <th>Driver</th>\n",
       "    </tr>\n",
       "    <tr>\n",
       "      <th>index</th>\n",
       "      <th></th>\n",
       "      <th></th>\n",
       "      <th></th>\n",
       "    </tr>\n",
       "  </thead>\n",
       "  <tbody>\n",
       "    <tr>\n",
       "      <th>0</th>\n",
       "      <td>Jacky</td>\n",
       "      <td>38</td>\n",
       "      <td>True</td>\n",
       "    </tr>\n",
       "    <tr>\n",
       "      <th>1</th>\n",
       "      <td>Steven</td>\n",
       "      <td>25</td>\n",
       "      <td>False</td>\n",
       "    </tr>\n",
       "    <tr>\n",
       "      <th>2</th>\n",
       "      <td>George</td>\n",
       "      <td>23</td>\n",
       "      <td>True</td>\n",
       "    </tr>\n",
       "  </tbody>\n",
       "</table>\n",
       "</div>"
      ],
      "text/plain": [
       "         Name  Age  Driver\n",
       "index                     \n",
       "0       Jacky   38    True\n",
       "1      Steven   25   False\n",
       "2      George   23    True"
      ]
     },
     "execution_count": 23,
     "metadata": {},
     "output_type": "execute_result"
    }
   ],
   "source": [
    "# 4. index에 이름 설정하기\n",
    "df.index.name = \"index\"\n",
    "df"
   ]
  },
  {
   "cell_type": "code",
   "execution_count": 24,
   "metadata": {},
   "outputs": [
    {
     "name": "stdout",
     "output_type": "stream",
     "text": [
      "5-1. 열 추가\n",
      "         Name  Age  Driver Location\n",
      "index                              \n",
      "0       Jacky   38    True   Area 1\n",
      "1      Steven   25   False   Area 2\n",
      "2      George   23    True   Area 3\n",
      "\n",
      "5-2. 열 이름 변경\n",
      "       Person  Age  Driver Location\n",
      "index                              \n",
      "0       Jacky   38    True   Area 1\n",
      "1      Steven   25   False   Area 2\n",
      "2      George   23    True   Area 3\n",
      "\n",
      "5-3. 열 삭제\n",
      "       Person  Age  Driver\n",
      "index                     \n",
      "0       Jacky   38    True\n",
      "1      Steven   25   False\n",
      "2      George   23    True\n"
     ]
    }
   ],
   "source": [
    "# 5. DataFrame 열 추가/수정/삭제\n",
    "print(\"5-1. 열 추가\")\n",
    "df[\"Location\"] = [\"Area 1\", \"Area 2\", \"Area 3\"]\n",
    "print(df)\n",
    "print()\n",
    "\n",
    "print(\"5-2. 열 이름 변경\")\n",
    "df = df.rename(columns={\"Name\": \"Person\"})\n",
    "print(df)\n",
    "print()\n",
    "\n",
    "print(\"5-3. 열 삭제\")\n",
    "df = df.drop(columns=\"Location\")\n",
    "print(df)"
   ]
  },
  {
   "cell_type": "code",
   "execution_count": 25,
   "metadata": {},
   "outputs": [
    {
     "name": "stdout",
     "output_type": "stream",
     "text": [
      "6-1. 행 추가\n"
     ]
    },
    {
     "data": {
      "text/html": [
       "<div>\n",
       "<style scoped>\n",
       "    .dataframe tbody tr th:only-of-type {\n",
       "        vertical-align: middle;\n",
       "    }\n",
       "\n",
       "    .dataframe tbody tr th {\n",
       "        vertical-align: top;\n",
       "    }\n",
       "\n",
       "    .dataframe thead th {\n",
       "        text-align: right;\n",
       "    }\n",
       "</style>\n",
       "<table border=\"1\" class=\"dataframe\">\n",
       "  <thead>\n",
       "    <tr style=\"text-align: right;\">\n",
       "      <th></th>\n",
       "      <th>Person</th>\n",
       "      <th>Age</th>\n",
       "      <th>Driver</th>\n",
       "    </tr>\n",
       "  </thead>\n",
       "  <tbody>\n",
       "    <tr>\n",
       "      <th>0</th>\n",
       "      <td>Jacky</td>\n",
       "      <td>38</td>\n",
       "      <td>True</td>\n",
       "    </tr>\n",
       "    <tr>\n",
       "      <th>1</th>\n",
       "      <td>Steven</td>\n",
       "      <td>25</td>\n",
       "      <td>False</td>\n",
       "    </tr>\n",
       "    <tr>\n",
       "      <th>2</th>\n",
       "      <td>George</td>\n",
       "      <td>23</td>\n",
       "      <td>True</td>\n",
       "    </tr>\n",
       "    <tr>\n",
       "      <th>4</th>\n",
       "      <td>Harry</td>\n",
       "      <td>10</td>\n",
       "      <td>False</td>\n",
       "    </tr>\n",
       "  </tbody>\n",
       "</table>\n",
       "</div>"
      ],
      "text/plain": [
       "   Person  Age  Driver\n",
       "0   Jacky   38    True\n",
       "1  Steven   25   False\n",
       "2  George   23    True\n",
       "4   Harry   10   False"
      ]
     },
     "execution_count": 25,
     "metadata": {},
     "output_type": "execute_result"
    }
   ],
   "source": [
    "# 6. DataFrame 행 추가/수정/삭제\n",
    "print(\"6-1. 행 추가\")\n",
    "data = {\n",
    "    \"Person\": [\"Harry\"],\n",
    "    \"Age\": [10],\n",
    "    \"Driver\": [False]\n",
    "}\n",
    "new_df = pd.DataFrame(data, index=[\"4\"])\n",
    "df = pd.concat([df, new_df])\n",
    "df\n"
   ]
  },
  {
   "cell_type": "code",
   "execution_count": 26,
   "metadata": {},
   "outputs": [
    {
     "name": "stdout",
     "output_type": "stream",
     "text": [
      "6-2. 행 선택\n",
      "   Person  Age  Driver\n",
      "0   Jacky   38    True\n",
      "1  Steven   25   False\n",
      "\n",
      "6-3. 행 선택 - loc\n",
      "Person    George\n",
      "Age           23\n",
      "Driver      True\n",
      "Name: 2, dtype: object\n",
      "George\n",
      "\n",
      "6-4. 행 선택 - iloc\n",
      "Person    Steven\n",
      "Age           25\n",
      "Driver     False\n",
      "Name: 1, dtype: object\n",
      "25\n",
      "\n",
      "6-5. 행 선택 - 조건\n",
      "0     True\n",
      "1    False\n",
      "2    False\n",
      "4    False\n",
      "Name: Age, dtype: bool\n",
      "  Person  Age  Driver\n",
      "0  Jacky   38    True\n"
     ]
    }
   ],
   "source": [
    "print(\"6-2. 행 선택\")\n",
    "print(df[0:2])\n",
    "print()\n",
    "\n",
    "print(\"6-3. 행 선택 - loc\")\n",
    "print(df.loc[2]) # 인덱스가 2인 데이터 접근\n",
    "print(df.loc[2, \"Person\"]) # 인덱스 2의 Person 데이터 접근\n",
    "print()\n",
    "\n",
    "print(\"6-4. 행 선택 - iloc\")\n",
    "print(df.iloc[1]) # 1번째 데이터 접근\n",
    "print(df.iloc[1, 1]) # 1번째의 1번 데이터 접근\n",
    "print()\n",
    "\n",
    "print(\"6-5. 행 선택 - 조건\")\n",
    "print(df[\"Age\"] > 25)\n",
    "print(df[df[\"Age\"] > 25])"
   ]
  }
 ],
 "metadata": {
  "kernelspec": {
   "display_name": "stock_invest",
   "language": "python",
   "name": "python3"
  },
  "language_info": {
   "codemirror_mode": {
    "name": "ipython",
    "version": 3
   },
   "file_extension": ".py",
   "mimetype": "text/x-python",
   "name": "python",
   "nbconvert_exporter": "python",
   "pygments_lexer": "ipython3",
   "version": "3.8.20"
  }
 },
 "nbformat": 4,
 "nbformat_minor": 2
}
